{
 "cells": [
  {
   "cell_type": "markdown",
   "metadata": {},
   "source": [
    "# Программирование для всех\n",
    "\n",
    "*Алла Тамбовцева, НИУ ВШЭ*\n",
    "\n",
    "## Практикум 5. Работа с API ВКонтакте: собираем посты со стены"
   ]
  },
  {
   "cell_type": "markdown",
   "metadata": {},
   "source": [
    "Загружаем модули и библиотеки, необходимые для работы:"
   ]
  },
  {
   "cell_type": "code",
   "execution_count": 2,
   "metadata": {},
   "outputs": [],
   "source": [
    "import requests\n",
    "import time\n",
    "import pandas as pd"
   ]
  },
  {
   "cell_type": "markdown",
   "metadata": {},
   "source": [
    "Для начала давайте посмотрим на документацию API и посмотрим, как к нему формировать запросы: https://dev.vk.com/api/api-requests."
   ]
  },
  {
   "cell_type": "markdown",
   "metadata": {},
   "source": [
    "В прошлый раз по инструкции мы получили доступ к API, вспомним шаги."
   ]
  },
  {
   "cell_type": "code",
   "execution_count": 3,
   "metadata": {},
   "outputs": [
    {
     "name": "stdout",
     "output_type": "stream",
     "text": [
      "Enter your client id: 51450878\n",
      "https://oauth.vk.com/authorize?client_id=51450878&display=page&redirect_uri=http://oauth.vk.com/blank.html&scope=all&response_type=token\n"
     ]
    }
   ],
   "source": [
    "# вводим id своего приложения\n",
    "# и проходим по ссылке с этим id\n",
    "\n",
    "app_id = input(\"Enter your client id: \")\n",
    "url = f\"https://oauth.vk.com/authorize?client_id={app_id}&display=page&redirect_uri=http://oauth.vk.com/blank.html&scope=all&response_type=token\"\n",
    "print(url)"
   ]
  },
  {
   "cell_type": "code",
   "execution_count": 4,
   "metadata": {},
   "outputs": [
    {
     "name": "stdout",
     "output_type": "stream",
     "text": [
      "Enter your token here: vk1.a.JBYGwPfNuubHb78kt9rX4nw8_Qg87gqVLUAD1rxtYGMd1z5c1Kvt-dIV2pj7A-q0ZuShzodBPX2FH9xZJwkeZ5f5i-TGA4-XTr5NBC6xHzkR6SpzK1Zg1wFQZ9nOyQbAxCRiI5pOTbbcV0_jVPRR_lpRVAIqOMaNLl3F2OI-x9LgebR7QnTaNrTLzO1y1cPV\n"
     ]
    }
   ],
   "source": [
    "# копируем токен доступа\n",
    "\n",
    "token = input(\"Enter your token here: \")"
   ]
  },
  {
   "cell_type": "markdown",
   "metadata": {},
   "source": [
    "На этом практическом занятии мы будем выгружать посты из сообщества [Цитатник ВШЭ](https://vk.com/hseteachers). Сохраним в переменные версию API, ссылку для метода работы со стеной сообщества и название сообщества:"
   ]
  },
  {
   "cell_type": "code",
   "execution_count": 5,
   "metadata": {},
   "outputs": [],
   "source": [
    "v = \"5.131\"\n",
    "main_wall = \"https://api.vk.com/method/wall.get\"\n",
    "domain = \"hseteachers\""
   ]
  },
  {
   "cell_type": "markdown",
   "metadata": {},
   "source": [
    "Функция `get()` из библиотеки `requests` умеет подставлять в запрос необходимые параметры и объединять их с помощью `?` и `&`. Сохраним необходимые параметры в виде словаря:"
   ]
  },
  {
   "cell_type": "code",
   "execution_count": 6,
   "metadata": {},
   "outputs": [],
   "source": [
    "params_wall = {\"access_token\" : token, \n",
    "              \"domain\" : domain, \n",
    "              \"count\" : 100,\n",
    "              \"v\" : v}"
   ]
  },
  {
   "cell_type": "markdown",
   "metadata": {},
   "source": [
    "А теперь сформируем запрос и выгрузим результаты в формате JSON – в Python данные в таком формате будут представлены в виде словаря:"
   ]
  },
  {
   "cell_type": "code",
   "execution_count": 8,
   "metadata": {},
   "outputs": [],
   "source": [
    "req_wall = requests.get(main_wall, params = params_wall)"
   ]
  },
  {
   "cell_type": "code",
   "execution_count": 9,
   "metadata": {},
   "outputs": [],
   "source": [
    "json_wall = req_wall.json()\n",
    "#json_wall"
   ]
  },
  {
   "cell_type": "code",
   "execution_count": 10,
   "metadata": {},
   "outputs": [
    {
     "data": {
      "text/plain": [
       "'https://api.vk.com/method/wall.get?access_token=vk1.a.JBYGwPfNuubHb78kt9rX4nw8_Qg87gqVLUAD1rxtYGMd1z5c1Kvt-dIV2pj7A-q0ZuShzodBPX2FH9xZJwkeZ5f5i-TGA4-XTr5NBC6xHzkR6SpzK1Zg1wFQZ9nOyQbAxCRiI5pOTbbcV0_jVPRR_lpRVAIqOMaNLl3F2OI-x9LgebR7QnTaNrTLzO1y1cPV&domain=hseteachers&count=100&v=5.131'"
      ]
     },
     "execution_count": 10,
     "metadata": {},
     "output_type": "execute_result"
    }
   ],
   "source": [
    "req_wall.url"
   ]
  },
  {
   "cell_type": "markdown",
   "metadata": {},
   "source": [
    "Извлечём из этого большого словаря элемент, который хранит непосредственно результаты – список из маленьких словарей с информацией о постах (1 словарь = 1 пост):"
   ]
  },
  {
   "cell_type": "code",
   "execution_count": 11,
   "metadata": {},
   "outputs": [],
   "source": [
    "items_wall = json_wall['response']['items']"
   ]
  },
  {
   "cell_type": "markdown",
   "metadata": {},
   "source": [
    "Посмотрим на один элемент такого списка:"
   ]
  },
  {
   "cell_type": "code",
   "execution_count": 12,
   "metadata": {},
   "outputs": [
    {
     "data": {
      "text/plain": [
       "{'id': 37509,\n",
       " 'from_id': -63442801,\n",
       " 'owner_id': -63442801,\n",
       " 'date': 1665934500,\n",
       " 'marked_as_ads': 0,\n",
       " 'is_favorite': False,\n",
       " 'post_type': 'post',\n",
       " 'text': '*студент презентует идею газеты*\\nПреподаватель: Душно или мне кажется?\\n\\n#Выжутович_ВШЭ #Печатные_медиа',\n",
       " 'post_source': {'type': 'api'},\n",
       " 'comments': {'can_post': 1, 'count': 0},\n",
       " 'likes': {'can_like': 1, 'count': 152, 'user_likes': 0, 'can_publish': 1},\n",
       " 'reposts': {'count': 20, 'user_reposted': 0},\n",
       " 'views': {'count': 3834},\n",
       " 'donut': {'is_donut': False},\n",
       " 'short_text_rate': 0.8,\n",
       " 'hash': '0Vso_-46GGMl8-U2miccMZP1nac'}"
      ]
     },
     "execution_count": 12,
     "metadata": {},
     "output_type": "execute_result"
    }
   ],
   "source": [
    "i = items_wall[0]\n",
    "i"
   ]
  },
  {
   "cell_type": "markdown",
   "metadata": {},
   "source": [
    "Поработаем с ним!"
   ]
  },
  {
   "cell_type": "markdown",
   "metadata": {},
   "source": [
    "### Задача 1\n",
    "\n",
    "Извлечь из элемента `i` следующие компоненты:\n",
    "\n",
    "* id поста;\n",
    "* дата поста;\n",
    "* текст поста;\n",
    "* число лайков;\n",
    "* число репостов;\n",
    "* число просмотров;\n",
    "* число комментариев."
   ]
  },
  {
   "cell_type": "code",
   "execution_count": 13,
   "metadata": {},
   "outputs": [
    {
     "name": "stdout",
     "output_type": "stream",
     "text": [
      "37509 1665934500 *студент презентует идею газеты*\n",
      "Преподаватель: Душно или мне кажется?\n",
      "\n",
      "#Выжутович_ВШЭ #Печатные_медиа\n",
      "152 20 3834 0\n"
     ]
    }
   ],
   "source": [
    "print(i[\"id\"], i[\"date\"], i[\"text\"])\n",
    "print(i[\"likes\"][\"count\"], i[\"reposts\"][\"count\"], i[\"views\"][\"count\"], i[\"comments\"][\"count\"])"
   ]
  },
  {
   "cell_type": "markdown",
   "metadata": {},
   "source": [
    "### Задача 2\n",
    "\n",
    "Напишите функцию `get_posts()`, которая принимает на вход словарь, аналогичный сохранённому в `i`, и возвращает список из следующих характеристик:\n",
    "\n",
    "* id поста;\n",
    "* дата поста;\n",
    "* текст поста;\n",
    "* число лайков;\n",
    "* число репостов;\n",
    "* число просмотров;\n",
    "* число комментариев."
   ]
  },
  {
   "cell_type": "code",
   "execution_count": 14,
   "metadata": {},
   "outputs": [],
   "source": [
    "def get_posts(i):\n",
    "    try:\n",
    "        id_ = i[\"id\"]\n",
    "        date = i[\"date\"]\n",
    "        text = i[\"text\"]\n",
    "        likes = i[\"likes\"][\"count\"]\n",
    "        repos = i[\"reposts\"][\"count\"]\n",
    "        views = i[\"views\"][\"count\"]\n",
    "        comments = i[\"comments\"][\"count\"]\n",
    "        id_ = i[\"id\"]\n",
    "        date = i[\"date\"]\n",
    "    except:\n",
    "        text = \"\"\n",
    "        likes = -100\n",
    "        repos = -100\n",
    "        views = -100\n",
    "        comments = -100\n",
    "    L = [id_, date, text, likes, repos, views, comments]\n",
    "    return L"
   ]
  },
  {
   "cell_type": "markdown",
   "metadata": {},
   "source": [
    "### Задача 3\n",
    "\n",
    "Примените функцию `get_posts()` ко всем элементам списка `items_wall` и сохраните полученные результаты в список `posts`. "
   ]
  },
  {
   "cell_type": "code",
   "execution_count": 15,
   "metadata": {},
   "outputs": [],
   "source": [
    "posts = []\n",
    "for i in items_wall:\n",
    "    p = get_posts(i)\n",
    "    posts.append(p)"
   ]
  },
  {
   "cell_type": "code",
   "execution_count": 16,
   "metadata": {},
   "outputs": [],
   "source": [
    "#posts"
   ]
  },
  {
   "cell_type": "markdown",
   "metadata": {},
   "source": [
    "### Задача 4\n",
    "\n",
    "Прочитайте в документации к API ВКонтакте про аргумент `offset` в методе `wall.get`. Используя полученную информацию и блоки кода ниже, выгрузите и сохраните в список `items_more` данные ещё по 9300 постам на стене сообщества.\n",
    "\n",
    "**Подсказка:** чтобы расширять список правильным образом, используйте метод `.extend()`, а не `.append()`, он добавляет не один элемент, а сразу несколько."
   ]
  },
  {
   "cell_type": "code",
   "execution_count": 17,
   "metadata": {},
   "outputs": [],
   "source": [
    "params_wall_long = {\"access_token\" : token, \n",
    "              \"domain\" : domain, \n",
    "              \"count\" : 100,\n",
    "              \"v\" : v,\n",
    "              \"offset\" : 100}"
   ]
  },
  {
   "cell_type": "code",
   "execution_count": 18,
   "metadata": {},
   "outputs": [
    {
     "name": "stdout",
     "output_type": "stream",
     "text": [
      "0\n",
      "1\n",
      "2\n",
      "3\n",
      "4\n",
      "5\n",
      "6\n",
      "7\n",
      "8\n",
      "9\n",
      "10\n",
      "11\n",
      "12\n",
      "13\n",
      "14\n",
      "15\n",
      "16\n",
      "17\n",
      "18\n",
      "19\n",
      "20\n",
      "21\n",
      "22\n",
      "23\n",
      "24\n",
      "25\n",
      "26\n",
      "27\n",
      "28\n",
      "29\n",
      "30\n",
      "31\n",
      "32\n",
      "33\n",
      "34\n",
      "35\n",
      "36\n",
      "37\n",
      "38\n",
      "39\n",
      "40\n",
      "41\n",
      "42\n",
      "43\n",
      "44\n",
      "45\n",
      "46\n",
      "47\n",
      "48\n",
      "49\n",
      "50\n",
      "51\n",
      "52\n",
      "53\n",
      "54\n",
      "55\n",
      "56\n",
      "57\n",
      "58\n",
      "59\n",
      "60\n",
      "61\n",
      "62\n",
      "63\n",
      "64\n",
      "65\n",
      "66\n",
      "67\n",
      "68\n",
      "69\n",
      "70\n",
      "71\n",
      "72\n",
      "73\n",
      "74\n",
      "75\n",
      "76\n",
      "77\n",
      "78\n",
      "79\n",
      "80\n",
      "81\n",
      "82\n",
      "83\n",
      "84\n",
      "85\n",
      "86\n",
      "87\n",
      "88\n",
      "89\n",
      "90\n",
      "91\n",
      "92\n"
     ]
    }
   ],
   "source": [
    "items_more = []\n",
    "\n",
    "for i in range(93):\n",
    "    req_wall_long = requests.get(main_wall, params = params_wall_long)\n",
    "    json_wall_long = req_wall_long.json()\n",
    "    items_wall_long = json_wall_long['response']['items']\n",
    "    items_more.extend(items_wall_long)\n",
    "    params_wall_long[\"offset\"] = params_wall_long[\"offset\"] + 100\n",
    "    time.sleep(1.5)\n",
    "    print(i)"
   ]
  },
  {
   "cell_type": "markdown",
   "metadata": {},
   "source": [
    "Теперь извлечём из каждого элемента `items_more` нужную информацию и расширим список `posts`, который у нас уже был до этого:"
   ]
  },
  {
   "cell_type": "code",
   "execution_count": 19,
   "metadata": {},
   "outputs": [],
   "source": [
    "for i in items_more:\n",
    "    p = get_posts(i)\n",
    "    posts.append(p)"
   ]
  },
  {
   "cell_type": "code",
   "execution_count": 20,
   "metadata": {},
   "outputs": [
    {
     "data": {
      "text/plain": [
       "9400"
      ]
     },
     "execution_count": 20,
     "metadata": {},
     "output_type": "execute_result"
    }
   ],
   "source": [
    "len(posts)  # все идёт по плану"
   ]
  },
  {
   "cell_type": "markdown",
   "metadata": {},
   "source": [
    "Преобразуем результат в датафрейм, добавим названия столбцов:"
   ]
  },
  {
   "cell_type": "code",
   "execution_count": 21,
   "metadata": {},
   "outputs": [],
   "source": [
    "dat = pd.DataFrame(posts)\n",
    "dat.columns = [\"id\", \"timestamp\", \"post\", \"likes\", \n",
    "               \"reposts\", \"views\", \"comments\"]"
   ]
  },
  {
   "cell_type": "markdown",
   "metadata": {},
   "source": [
    "Несколько строк датафрейма для примера:"
   ]
  },
  {
   "cell_type": "code",
   "execution_count": 22,
   "metadata": {},
   "outputs": [
    {
     "data": {
      "text/html": [
       "<div>\n",
       "<style scoped>\n",
       "    .dataframe tbody tr th:only-of-type {\n",
       "        vertical-align: middle;\n",
       "    }\n",
       "\n",
       "    .dataframe tbody tr th {\n",
       "        vertical-align: top;\n",
       "    }\n",
       "\n",
       "    .dataframe thead th {\n",
       "        text-align: right;\n",
       "    }\n",
       "</style>\n",
       "<table border=\"1\" class=\"dataframe\">\n",
       "  <thead>\n",
       "    <tr style=\"text-align: right;\">\n",
       "      <th></th>\n",
       "      <th>id</th>\n",
       "      <th>timestamp</th>\n",
       "      <th>post</th>\n",
       "      <th>likes</th>\n",
       "      <th>reposts</th>\n",
       "      <th>views</th>\n",
       "      <th>comments</th>\n",
       "    </tr>\n",
       "  </thead>\n",
       "  <tbody>\n",
       "    <tr>\n",
       "      <th>0</th>\n",
       "      <td>37509</td>\n",
       "      <td>1665934500</td>\n",
       "      <td>*студент презентует идею газеты*\\nПреподавател...</td>\n",
       "      <td>152</td>\n",
       "      <td>20</td>\n",
       "      <td>3834</td>\n",
       "      <td>0</td>\n",
       "    </tr>\n",
       "    <tr>\n",
       "      <th>1</th>\n",
       "      <td>37503</td>\n",
       "      <td>1665923700</td>\n",
       "      <td>Без любви ничего не выйдет.\\n\\n#Гаджиев_ВШЭ #Г...</td>\n",
       "      <td>320</td>\n",
       "      <td>43</td>\n",
       "      <td>6788</td>\n",
       "      <td>4</td>\n",
       "    </tr>\n",
       "    <tr>\n",
       "      <th>2</th>\n",
       "      <td>37501</td>\n",
       "      <td>1665912900</td>\n",
       "      <td>В одиночку можно только сойти с ума. Больше в ...</td>\n",
       "      <td>179</td>\n",
       "      <td>33</td>\n",
       "      <td>5058</td>\n",
       "      <td>2</td>\n",
       "    </tr>\n",
       "    <tr>\n",
       "      <th>3</th>\n",
       "      <td>37497</td>\n",
       "      <td>1665848100</td>\n",
       "      <td>Ты приходишь в чебуречную, там граненый стакан...</td>\n",
       "      <td>91</td>\n",
       "      <td>14</td>\n",
       "      <td>5410</td>\n",
       "      <td>2</td>\n",
       "    </tr>\n",
       "    <tr>\n",
       "      <th>4</th>\n",
       "      <td>37495</td>\n",
       "      <td>1665837300</td>\n",
       "      <td>П: Назовите мне какой-нибудь luxury brand в Ро...</td>\n",
       "      <td>227</td>\n",
       "      <td>21</td>\n",
       "      <td>6512</td>\n",
       "      <td>0</td>\n",
       "    </tr>\n",
       "  </tbody>\n",
       "</table>\n",
       "</div>"
      ],
      "text/plain": [
       "      id   timestamp                                               post  \\\n",
       "0  37509  1665934500  *студент презентует идею газеты*\\nПреподавател...   \n",
       "1  37503  1665923700  Без любви ничего не выйдет.\\n\\n#Гаджиев_ВШЭ #Г...   \n",
       "2  37501  1665912900  В одиночку можно только сойти с ума. Больше в ...   \n",
       "3  37497  1665848100  Ты приходишь в чебуречную, там граненый стакан...   \n",
       "4  37495  1665837300  П: Назовите мне какой-нибудь luxury brand в Ро...   \n",
       "\n",
       "   likes  reposts  views  comments  \n",
       "0    152       20   3834         0  \n",
       "1    320       43   6788         4  \n",
       "2    179       33   5058         2  \n",
       "3     91       14   5410         2  \n",
       "4    227       21   6512         0  "
      ]
     },
     "execution_count": 22,
     "metadata": {},
     "output_type": "execute_result"
    }
   ],
   "source": [
    "dat.head()"
   ]
  },
  {
   "cell_type": "markdown",
   "metadata": {},
   "source": [
    "Разобьём текст поста по `#`, чтобы извлечь тэги:"
   ]
  },
  {
   "cell_type": "code",
   "execution_count": 23,
   "metadata": {},
   "outputs": [
    {
     "data": {
      "text/plain": [
       "'*студент презентует идею газеты*\\nПреподаватель: Душно или мне кажется?\\n\\n#Выжутович_ВШЭ #Печатные_медиа'"
      ]
     },
     "execution_count": 23,
     "metadata": {},
     "output_type": "execute_result"
    }
   ],
   "source": [
    "dat[\"post\"][0] "
   ]
  },
  {
   "cell_type": "code",
   "execution_count": 24,
   "metadata": {},
   "outputs": [
    {
     "data": {
      "text/html": [
       "<div>\n",
       "<style scoped>\n",
       "    .dataframe tbody tr th:only-of-type {\n",
       "        vertical-align: middle;\n",
       "    }\n",
       "\n",
       "    .dataframe tbody tr th {\n",
       "        vertical-align: top;\n",
       "    }\n",
       "\n",
       "    .dataframe thead th {\n",
       "        text-align: right;\n",
       "    }\n",
       "</style>\n",
       "<table border=\"1\" class=\"dataframe\">\n",
       "  <thead>\n",
       "    <tr style=\"text-align: right;\">\n",
       "      <th></th>\n",
       "      <th>0</th>\n",
       "      <th>1</th>\n",
       "      <th>2</th>\n",
       "      <th>3</th>\n",
       "      <th>4</th>\n",
       "      <th>5</th>\n",
       "    </tr>\n",
       "  </thead>\n",
       "  <tbody>\n",
       "    <tr>\n",
       "      <th>0</th>\n",
       "      <td>*студент презентует идею газеты*\\nПреподавател...</td>\n",
       "      <td>Выжутович_ВШЭ</td>\n",
       "      <td>Печатные_медиа</td>\n",
       "      <td>None</td>\n",
       "      <td>None</td>\n",
       "      <td>None</td>\n",
       "    </tr>\n",
       "    <tr>\n",
       "      <th>1</th>\n",
       "      <td>Без любви ничего не выйдет.\\n\\n</td>\n",
       "      <td>Гаджиев_ВШЭ</td>\n",
       "      <td>Гражданское_право</td>\n",
       "      <td>None</td>\n",
       "      <td>None</td>\n",
       "      <td>None</td>\n",
       "    </tr>\n",
       "    <tr>\n",
       "      <th>2</th>\n",
       "      <td>В одиночку можно только сойти с ума. Больше в ...</td>\n",
       "      <td>Буровский_ВШЭ</td>\n",
       "      <td>ПМ</td>\n",
       "      <td>None</td>\n",
       "      <td>None</td>\n",
       "      <td>None</td>\n",
       "    </tr>\n",
       "    <tr>\n",
       "      <th>3</th>\n",
       "      <td>Ты приходишь в чебуречную, там граненый стакан...</td>\n",
       "      <td>Сафронов_ВШЭ</td>\n",
       "      <td>Актуальная_социальная_теория</td>\n",
       "      <td>ФКМД</td>\n",
       "      <td>None</td>\n",
       "      <td>None</td>\n",
       "    </tr>\n",
       "    <tr>\n",
       "      <th>4</th>\n",
       "      <td>П: Назовите мне какой-нибудь luxury brand в Ро...</td>\n",
       "      <td>Влахов_ВШЭ</td>\n",
       "      <td>Социолингвистика</td>\n",
       "      <td>None</td>\n",
       "      <td>None</td>\n",
       "      <td>None</td>\n",
       "    </tr>\n",
       "    <tr>\n",
       "      <th>...</th>\n",
       "      <td>...</td>\n",
       "      <td>...</td>\n",
       "      <td>...</td>\n",
       "      <td>...</td>\n",
       "      <td>...</td>\n",
       "      <td>...</td>\n",
       "    </tr>\n",
       "    <tr>\n",
       "      <th>9395</th>\n",
       "      <td></td>\n",
       "      <td>None</td>\n",
       "      <td>None</td>\n",
       "      <td>None</td>\n",
       "      <td>None</td>\n",
       "      <td>None</td>\n",
       "    </tr>\n",
       "    <tr>\n",
       "      <th>9396</th>\n",
       "      <td></td>\n",
       "      <td>None</td>\n",
       "      <td>None</td>\n",
       "      <td>None</td>\n",
       "      <td>None</td>\n",
       "      <td>None</td>\n",
       "    </tr>\n",
       "    <tr>\n",
       "      <th>9397</th>\n",
       "      <td></td>\n",
       "      <td>None</td>\n",
       "      <td>None</td>\n",
       "      <td>None</td>\n",
       "      <td>None</td>\n",
       "      <td>None</td>\n",
       "    </tr>\n",
       "    <tr>\n",
       "      <th>9398</th>\n",
       "      <td></td>\n",
       "      <td>None</td>\n",
       "      <td>None</td>\n",
       "      <td>None</td>\n",
       "      <td>None</td>\n",
       "      <td>None</td>\n",
       "    </tr>\n",
       "    <tr>\n",
       "      <th>9399</th>\n",
       "      <td></td>\n",
       "      <td>None</td>\n",
       "      <td>None</td>\n",
       "      <td>None</td>\n",
       "      <td>None</td>\n",
       "      <td>None</td>\n",
       "    </tr>\n",
       "  </tbody>\n",
       "</table>\n",
       "<p>9400 rows × 6 columns</p>\n",
       "</div>"
      ],
      "text/plain": [
       "                                                      0               1  \\\n",
       "0     *студент презентует идею газеты*\\nПреподавател...  Выжутович_ВШЭ    \n",
       "1                       Без любви ничего не выйдет.\\n\\n    Гаджиев_ВШЭ    \n",
       "2     В одиночку можно только сойти с ума. Больше в ...  Буровский_ВШЭ    \n",
       "3     Ты приходишь в чебуречную, там граненый стакан...   Сафронов_ВШЭ    \n",
       "4     П: Назовите мне какой-нибудь luxury brand в Ро...     Влахов_ВШЭ    \n",
       "...                                                 ...             ...   \n",
       "9395                                                               None   \n",
       "9396                                                               None   \n",
       "9397                                                               None   \n",
       "9398                                                               None   \n",
       "9399                                                               None   \n",
       "\n",
       "                                  2     3     4     5  \n",
       "0                    Печатные_медиа  None  None  None  \n",
       "1                 Гражданское_право  None  None  None  \n",
       "2                                ПМ  None  None  None  \n",
       "3     Актуальная_социальная_теория   ФКМД  None  None  \n",
       "4                  Социолингвистика  None  None  None  \n",
       "...                             ...   ...   ...   ...  \n",
       "9395                           None  None  None  None  \n",
       "9396                           None  None  None  None  \n",
       "9397                           None  None  None  None  \n",
       "9398                           None  None  None  None  \n",
       "9399                           None  None  None  None  \n",
       "\n",
       "[9400 rows x 6 columns]"
      ]
     },
     "execution_count": 24,
     "metadata": {},
     "output_type": "execute_result"
    }
   ],
   "source": [
    "with_tags = dat[\"post\"].str.split(\"#\", expand = True)\n",
    "with_tags"
   ]
  },
  {
   "cell_type": "markdown",
   "metadata": {},
   "source": [
    "Основная информация – это первые два тэга, имя преподавателя и курс (по крайней мере, в большинстве случаев это так). Заберём для дальнейшей работы только их:"
   ]
  },
  {
   "cell_type": "code",
   "execution_count": 25,
   "metadata": {},
   "outputs": [],
   "source": [
    "small = with_tags.loc[:, 0:2] \n",
    "small.columns = [\"text\", \"teacher\", \"course\"] "
   ]
  },
  {
   "cell_type": "code",
   "execution_count": 26,
   "metadata": {},
   "outputs": [
    {
     "data": {
      "text/html": [
       "<div>\n",
       "<style scoped>\n",
       "    .dataframe tbody tr th:only-of-type {\n",
       "        vertical-align: middle;\n",
       "    }\n",
       "\n",
       "    .dataframe tbody tr th {\n",
       "        vertical-align: top;\n",
       "    }\n",
       "\n",
       "    .dataframe thead th {\n",
       "        text-align: right;\n",
       "    }\n",
       "</style>\n",
       "<table border=\"1\" class=\"dataframe\">\n",
       "  <thead>\n",
       "    <tr style=\"text-align: right;\">\n",
       "      <th></th>\n",
       "      <th>text</th>\n",
       "      <th>teacher</th>\n",
       "      <th>course</th>\n",
       "    </tr>\n",
       "  </thead>\n",
       "  <tbody>\n",
       "    <tr>\n",
       "      <th>0</th>\n",
       "      <td>*студент презентует идею газеты*\\nПреподавател...</td>\n",
       "      <td>Выжутович_ВШЭ</td>\n",
       "      <td>Печатные_медиа</td>\n",
       "    </tr>\n",
       "    <tr>\n",
       "      <th>1</th>\n",
       "      <td>Без любви ничего не выйдет.\\n\\n</td>\n",
       "      <td>Гаджиев_ВШЭ</td>\n",
       "      <td>Гражданское_право</td>\n",
       "    </tr>\n",
       "    <tr>\n",
       "      <th>2</th>\n",
       "      <td>В одиночку можно только сойти с ума. Больше в ...</td>\n",
       "      <td>Буровский_ВШЭ</td>\n",
       "      <td>ПМ</td>\n",
       "    </tr>\n",
       "    <tr>\n",
       "      <th>3</th>\n",
       "      <td>Ты приходишь в чебуречную, там граненый стакан...</td>\n",
       "      <td>Сафронов_ВШЭ</td>\n",
       "      <td>Актуальная_социальная_теория</td>\n",
       "    </tr>\n",
       "    <tr>\n",
       "      <th>4</th>\n",
       "      <td>П: Назовите мне какой-нибудь luxury brand в Ро...</td>\n",
       "      <td>Влахов_ВШЭ</td>\n",
       "      <td>Социолингвистика</td>\n",
       "    </tr>\n",
       "    <tr>\n",
       "      <th>...</th>\n",
       "      <td>...</td>\n",
       "      <td>...</td>\n",
       "      <td>...</td>\n",
       "    </tr>\n",
       "    <tr>\n",
       "      <th>9395</th>\n",
       "      <td></td>\n",
       "      <td>None</td>\n",
       "      <td>None</td>\n",
       "    </tr>\n",
       "    <tr>\n",
       "      <th>9396</th>\n",
       "      <td></td>\n",
       "      <td>None</td>\n",
       "      <td>None</td>\n",
       "    </tr>\n",
       "    <tr>\n",
       "      <th>9397</th>\n",
       "      <td></td>\n",
       "      <td>None</td>\n",
       "      <td>None</td>\n",
       "    </tr>\n",
       "    <tr>\n",
       "      <th>9398</th>\n",
       "      <td></td>\n",
       "      <td>None</td>\n",
       "      <td>None</td>\n",
       "    </tr>\n",
       "    <tr>\n",
       "      <th>9399</th>\n",
       "      <td></td>\n",
       "      <td>None</td>\n",
       "      <td>None</td>\n",
       "    </tr>\n",
       "  </tbody>\n",
       "</table>\n",
       "<p>9400 rows × 3 columns</p>\n",
       "</div>"
      ],
      "text/plain": [
       "                                                   text         teacher  \\\n",
       "0     *студент презентует идею газеты*\\nПреподавател...  Выжутович_ВШЭ    \n",
       "1                       Без любви ничего не выйдет.\\n\\n    Гаджиев_ВШЭ    \n",
       "2     В одиночку можно только сойти с ума. Больше в ...  Буровский_ВШЭ    \n",
       "3     Ты приходишь в чебуречную, там граненый стакан...   Сафронов_ВШЭ    \n",
       "4     П: Назовите мне какой-нибудь luxury brand в Ро...     Влахов_ВШЭ    \n",
       "...                                                 ...             ...   \n",
       "9395                                                               None   \n",
       "9396                                                               None   \n",
       "9397                                                               None   \n",
       "9398                                                               None   \n",
       "9399                                                               None   \n",
       "\n",
       "                             course  \n",
       "0                    Печатные_медиа  \n",
       "1                 Гражданское_право  \n",
       "2                                ПМ  \n",
       "3     Актуальная_социальная_теория   \n",
       "4                  Социолингвистика  \n",
       "...                             ...  \n",
       "9395                           None  \n",
       "9396                           None  \n",
       "9397                           None  \n",
       "9398                           None  \n",
       "9399                           None  \n",
       "\n",
       "[9400 rows x 3 columns]"
      ]
     },
     "execution_count": 26,
     "metadata": {},
     "output_type": "execute_result"
    }
   ],
   "source": [
    "small"
   ]
  },
  {
   "cell_type": "markdown",
   "metadata": {},
   "source": [
    "Склеим датафрейм `dat` с датафреймом `small` по столбцам:"
   ]
  },
  {
   "cell_type": "code",
   "execution_count": 27,
   "metadata": {},
   "outputs": [],
   "source": [
    "final = pd.concat([dat, small], axis = 1) "
   ]
  },
  {
   "cell_type": "markdown",
   "metadata": {},
   "source": [
    "Заполним пропуски – добавим «пустой» текст в ячейки, где нет никаких значений:"
   ]
  },
  {
   "cell_type": "code",
   "execution_count": 28,
   "metadata": {},
   "outputs": [],
   "source": [
    "final = final.fillna(\"\") "
   ]
  },
  {
   "cell_type": "markdown",
   "metadata": {},
   "source": [
    "Избавимся от лишних пробелов и отступов в текстовых данных:"
   ]
  },
  {
   "cell_type": "code",
   "execution_count": 29,
   "metadata": {},
   "outputs": [],
   "source": [
    "final[\"text\"] = final[\"text\"].apply(lambda x: x.strip())\n",
    "final[\"teacher\"] = final[\"teacher\"].apply(lambda x: x.strip())\n",
    "final[\"course\"] = final[\"course\"].apply(lambda x: x.strip())"
   ]
  },
  {
   "cell_type": "markdown",
   "metadata": {},
   "source": [
    "Осталось поработать с форматом времени в столбце `timestamp`."
   ]
  },
  {
   "cell_type": "code",
   "execution_count": 30,
   "metadata": {},
   "outputs": [
    {
     "data": {
      "text/plain": [
       "0       1665934500\n",
       "1       1665923700\n",
       "2       1665912900\n",
       "3       1665848100\n",
       "4       1665837300\n",
       "           ...    \n",
       "9395    1388324186\n",
       "9396    1388324026\n",
       "9397    1388323985\n",
       "9398    1388323757\n",
       "9399    1388259686\n",
       "Name: timestamp, Length: 9400, dtype: int64"
      ]
     },
     "execution_count": 30,
     "metadata": {},
     "output_type": "execute_result"
    }
   ],
   "source": [
    "final[\"timestamp\"]"
   ]
  },
  {
   "cell_type": "code",
   "execution_count": 31,
   "metadata": {},
   "outputs": [
    {
     "data": {
      "text/plain": [
       "1665934500"
      ]
     },
     "execution_count": 31,
     "metadata": {},
     "output_type": "execute_result"
    }
   ],
   "source": [
    "t = final[\"timestamp\"][0]\n",
    "t"
   ]
  },
  {
   "cell_type": "markdown",
   "metadata": {},
   "source": [
    "Импортируем из модуля `datetime` функцию `datetime`, она поможет нам получить дату и время в привычном формате:"
   ]
  },
  {
   "cell_type": "code",
   "execution_count": 32,
   "metadata": {},
   "outputs": [],
   "source": [
    "from datetime import datetime"
   ]
  },
  {
   "cell_type": "code",
   "execution_count": 33,
   "metadata": {},
   "outputs": [
    {
     "data": {
      "text/plain": [
       "datetime.datetime(2022, 10, 16, 15, 35)"
      ]
     },
     "execution_count": 33,
     "metadata": {},
     "output_type": "execute_result"
    }
   ],
   "source": [
    "datetime.utcfromtimestamp(t)"
   ]
  },
  {
   "cell_type": "code",
   "execution_count": 34,
   "metadata": {},
   "outputs": [
    {
     "data": {
      "text/plain": [
       "'2022-10-16 15:35:00'"
      ]
     },
     "execution_count": 34,
     "metadata": {},
     "output_type": "execute_result"
    }
   ],
   "source": [
    "datetime.utcfromtimestamp(t).strftime('%Y-%m-%d %H:%M:%S')"
   ]
  },
  {
   "cell_type": "markdown",
   "metadata": {},
   "source": [
    "Напишем функцию для преобразования временной метки:"
   ]
  },
  {
   "cell_type": "code",
   "execution_count": 35,
   "metadata": {},
   "outputs": [],
   "source": [
    "def time_transform(t):\n",
    "    r = datetime.fromtimestamp(t).strftime('%Y-%m-%d %H:%M:%S')\n",
    "    return r"
   ]
  },
  {
   "cell_type": "markdown",
   "metadata": {},
   "source": [
    "Применим её ко всем элементам столбца:"
   ]
  },
  {
   "cell_type": "code",
   "execution_count": 36,
   "metadata": {},
   "outputs": [],
   "source": [
    "final[\"datetime\"] = final[\"timestamp\"].apply(time_transform)"
   ]
  },
  {
   "cell_type": "code",
   "execution_count": 37,
   "metadata": {},
   "outputs": [
    {
     "data": {
      "text/html": [
       "<div>\n",
       "<style scoped>\n",
       "    .dataframe tbody tr th:only-of-type {\n",
       "        vertical-align: middle;\n",
       "    }\n",
       "\n",
       "    .dataframe tbody tr th {\n",
       "        vertical-align: top;\n",
       "    }\n",
       "\n",
       "    .dataframe thead th {\n",
       "        text-align: right;\n",
       "    }\n",
       "</style>\n",
       "<table border=\"1\" class=\"dataframe\">\n",
       "  <thead>\n",
       "    <tr style=\"text-align: right;\">\n",
       "      <th></th>\n",
       "      <th>id</th>\n",
       "      <th>timestamp</th>\n",
       "      <th>post</th>\n",
       "      <th>likes</th>\n",
       "      <th>reposts</th>\n",
       "      <th>views</th>\n",
       "      <th>comments</th>\n",
       "      <th>text</th>\n",
       "      <th>teacher</th>\n",
       "      <th>course</th>\n",
       "      <th>datetime</th>\n",
       "    </tr>\n",
       "  </thead>\n",
       "  <tbody>\n",
       "    <tr>\n",
       "      <th>0</th>\n",
       "      <td>37509</td>\n",
       "      <td>1665934500</td>\n",
       "      <td>*студент презентует идею газеты*\\nПреподавател...</td>\n",
       "      <td>152</td>\n",
       "      <td>20</td>\n",
       "      <td>3834</td>\n",
       "      <td>0</td>\n",
       "      <td>*студент презентует идею газеты*\\nПреподавател...</td>\n",
       "      <td>Выжутович_ВШЭ</td>\n",
       "      <td>Печатные_медиа</td>\n",
       "      <td>2022-10-16 18:35:00</td>\n",
       "    </tr>\n",
       "    <tr>\n",
       "      <th>1</th>\n",
       "      <td>37503</td>\n",
       "      <td>1665923700</td>\n",
       "      <td>Без любви ничего не выйдет.\\n\\n#Гаджиев_ВШЭ #Г...</td>\n",
       "      <td>320</td>\n",
       "      <td>43</td>\n",
       "      <td>6788</td>\n",
       "      <td>4</td>\n",
       "      <td>Без любви ничего не выйдет.</td>\n",
       "      <td>Гаджиев_ВШЭ</td>\n",
       "      <td>Гражданское_право</td>\n",
       "      <td>2022-10-16 15:35:00</td>\n",
       "    </tr>\n",
       "    <tr>\n",
       "      <th>2</th>\n",
       "      <td>37501</td>\n",
       "      <td>1665912900</td>\n",
       "      <td>В одиночку можно только сойти с ума. Больше в ...</td>\n",
       "      <td>179</td>\n",
       "      <td>33</td>\n",
       "      <td>5058</td>\n",
       "      <td>2</td>\n",
       "      <td>В одиночку можно только сойти с ума. Больше в ...</td>\n",
       "      <td>Буровский_ВШЭ</td>\n",
       "      <td>ПМ</td>\n",
       "      <td>2022-10-16 12:35:00</td>\n",
       "    </tr>\n",
       "    <tr>\n",
       "      <th>3</th>\n",
       "      <td>37497</td>\n",
       "      <td>1665848100</td>\n",
       "      <td>Ты приходишь в чебуречную, там граненый стакан...</td>\n",
       "      <td>91</td>\n",
       "      <td>14</td>\n",
       "      <td>5410</td>\n",
       "      <td>2</td>\n",
       "      <td>Ты приходишь в чебуречную, там граненый стакан...</td>\n",
       "      <td>Сафронов_ВШЭ</td>\n",
       "      <td>Актуальная_социальная_теория</td>\n",
       "      <td>2022-10-15 18:35:00</td>\n",
       "    </tr>\n",
       "    <tr>\n",
       "      <th>4</th>\n",
       "      <td>37495</td>\n",
       "      <td>1665837300</td>\n",
       "      <td>П: Назовите мне какой-нибудь luxury brand в Ро...</td>\n",
       "      <td>227</td>\n",
       "      <td>21</td>\n",
       "      <td>6512</td>\n",
       "      <td>0</td>\n",
       "      <td>П: Назовите мне какой-нибудь luxury brand в Ро...</td>\n",
       "      <td>Влахов_ВШЭ</td>\n",
       "      <td>Социолингвистика</td>\n",
       "      <td>2022-10-15 15:35:00</td>\n",
       "    </tr>\n",
       "  </tbody>\n",
       "</table>\n",
       "</div>"
      ],
      "text/plain": [
       "      id   timestamp                                               post  \\\n",
       "0  37509  1665934500  *студент презентует идею газеты*\\nПреподавател...   \n",
       "1  37503  1665923700  Без любви ничего не выйдет.\\n\\n#Гаджиев_ВШЭ #Г...   \n",
       "2  37501  1665912900  В одиночку можно только сойти с ума. Больше в ...   \n",
       "3  37497  1665848100  Ты приходишь в чебуречную, там граненый стакан...   \n",
       "4  37495  1665837300  П: Назовите мне какой-нибудь luxury brand в Ро...   \n",
       "\n",
       "   likes  reposts  views  comments  \\\n",
       "0    152       20   3834         0   \n",
       "1    320       43   6788         4   \n",
       "2    179       33   5058         2   \n",
       "3     91       14   5410         2   \n",
       "4    227       21   6512         0   \n",
       "\n",
       "                                                text        teacher  \\\n",
       "0  *студент презентует идею газеты*\\nПреподавател...  Выжутович_ВШЭ   \n",
       "1                        Без любви ничего не выйдет.    Гаджиев_ВШЭ   \n",
       "2  В одиночку можно только сойти с ума. Больше в ...  Буровский_ВШЭ   \n",
       "3  Ты приходишь в чебуречную, там граненый стакан...   Сафронов_ВШЭ   \n",
       "4  П: Назовите мне какой-нибудь luxury brand в Ро...     Влахов_ВШЭ   \n",
       "\n",
       "                         course             datetime  \n",
       "0                Печатные_медиа  2022-10-16 18:35:00  \n",
       "1             Гражданское_право  2022-10-16 15:35:00  \n",
       "2                            ПМ  2022-10-16 12:35:00  \n",
       "3  Актуальная_социальная_теория  2022-10-15 18:35:00  \n",
       "4              Социолингвистика  2022-10-15 15:35:00  "
      ]
     },
     "execution_count": 37,
     "metadata": {},
     "output_type": "execute_result"
    }
   ],
   "source": [
    "final.head() "
   ]
  },
  {
   "cell_type": "markdown",
   "metadata": {},
   "source": [
    "Теперь можем разбить дату-время по пробелу, чтобы получить отдельные столбцы с датой и временем (механизм нам уже известен, мы разбивали пост по `#` выше):"
   ]
  },
  {
   "cell_type": "code",
   "execution_count": 38,
   "metadata": {},
   "outputs": [],
   "source": [
    "dt = final[\"datetime\"].str.split(\" \", expand = True)\n",
    "dt.columns = [\"date\", \"time\"] "
   ]
  },
  {
   "cell_type": "code",
   "execution_count": 39,
   "metadata": {},
   "outputs": [],
   "source": [
    "final2 = pd.concat([final, dt], axis = 1)"
   ]
  },
  {
   "cell_type": "code",
   "execution_count": 40,
   "metadata": {},
   "outputs": [
    {
     "data": {
      "text/html": [
       "<div>\n",
       "<style scoped>\n",
       "    .dataframe tbody tr th:only-of-type {\n",
       "        vertical-align: middle;\n",
       "    }\n",
       "\n",
       "    .dataframe tbody tr th {\n",
       "        vertical-align: top;\n",
       "    }\n",
       "\n",
       "    .dataframe thead th {\n",
       "        text-align: right;\n",
       "    }\n",
       "</style>\n",
       "<table border=\"1\" class=\"dataframe\">\n",
       "  <thead>\n",
       "    <tr style=\"text-align: right;\">\n",
       "      <th></th>\n",
       "      <th>id</th>\n",
       "      <th>timestamp</th>\n",
       "      <th>post</th>\n",
       "      <th>likes</th>\n",
       "      <th>reposts</th>\n",
       "      <th>views</th>\n",
       "      <th>comments</th>\n",
       "      <th>text</th>\n",
       "      <th>teacher</th>\n",
       "      <th>course</th>\n",
       "      <th>datetime</th>\n",
       "      <th>date</th>\n",
       "      <th>time</th>\n",
       "    </tr>\n",
       "  </thead>\n",
       "  <tbody>\n",
       "    <tr>\n",
       "      <th>0</th>\n",
       "      <td>37509</td>\n",
       "      <td>1665934500</td>\n",
       "      <td>*студент презентует идею газеты*\\nПреподавател...</td>\n",
       "      <td>152</td>\n",
       "      <td>20</td>\n",
       "      <td>3834</td>\n",
       "      <td>0</td>\n",
       "      <td>*студент презентует идею газеты*\\nПреподавател...</td>\n",
       "      <td>Выжутович_ВШЭ</td>\n",
       "      <td>Печатные_медиа</td>\n",
       "      <td>2022-10-16 18:35:00</td>\n",
       "      <td>2022-10-16</td>\n",
       "      <td>18:35:00</td>\n",
       "    </tr>\n",
       "    <tr>\n",
       "      <th>1</th>\n",
       "      <td>37503</td>\n",
       "      <td>1665923700</td>\n",
       "      <td>Без любви ничего не выйдет.\\n\\n#Гаджиев_ВШЭ #Г...</td>\n",
       "      <td>320</td>\n",
       "      <td>43</td>\n",
       "      <td>6788</td>\n",
       "      <td>4</td>\n",
       "      <td>Без любви ничего не выйдет.</td>\n",
       "      <td>Гаджиев_ВШЭ</td>\n",
       "      <td>Гражданское_право</td>\n",
       "      <td>2022-10-16 15:35:00</td>\n",
       "      <td>2022-10-16</td>\n",
       "      <td>15:35:00</td>\n",
       "    </tr>\n",
       "    <tr>\n",
       "      <th>2</th>\n",
       "      <td>37501</td>\n",
       "      <td>1665912900</td>\n",
       "      <td>В одиночку можно только сойти с ума. Больше в ...</td>\n",
       "      <td>179</td>\n",
       "      <td>33</td>\n",
       "      <td>5058</td>\n",
       "      <td>2</td>\n",
       "      <td>В одиночку можно только сойти с ума. Больше в ...</td>\n",
       "      <td>Буровский_ВШЭ</td>\n",
       "      <td>ПМ</td>\n",
       "      <td>2022-10-16 12:35:00</td>\n",
       "      <td>2022-10-16</td>\n",
       "      <td>12:35:00</td>\n",
       "    </tr>\n",
       "    <tr>\n",
       "      <th>3</th>\n",
       "      <td>37497</td>\n",
       "      <td>1665848100</td>\n",
       "      <td>Ты приходишь в чебуречную, там граненый стакан...</td>\n",
       "      <td>91</td>\n",
       "      <td>14</td>\n",
       "      <td>5410</td>\n",
       "      <td>2</td>\n",
       "      <td>Ты приходишь в чебуречную, там граненый стакан...</td>\n",
       "      <td>Сафронов_ВШЭ</td>\n",
       "      <td>Актуальная_социальная_теория</td>\n",
       "      <td>2022-10-15 18:35:00</td>\n",
       "      <td>2022-10-15</td>\n",
       "      <td>18:35:00</td>\n",
       "    </tr>\n",
       "    <tr>\n",
       "      <th>4</th>\n",
       "      <td>37495</td>\n",
       "      <td>1665837300</td>\n",
       "      <td>П: Назовите мне какой-нибудь luxury brand в Ро...</td>\n",
       "      <td>227</td>\n",
       "      <td>21</td>\n",
       "      <td>6512</td>\n",
       "      <td>0</td>\n",
       "      <td>П: Назовите мне какой-нибудь luxury brand в Ро...</td>\n",
       "      <td>Влахов_ВШЭ</td>\n",
       "      <td>Социолингвистика</td>\n",
       "      <td>2022-10-15 15:35:00</td>\n",
       "      <td>2022-10-15</td>\n",
       "      <td>15:35:00</td>\n",
       "    </tr>\n",
       "    <tr>\n",
       "      <th>...</th>\n",
       "      <td>...</td>\n",
       "      <td>...</td>\n",
       "      <td>...</td>\n",
       "      <td>...</td>\n",
       "      <td>...</td>\n",
       "      <td>...</td>\n",
       "      <td>...</td>\n",
       "      <td>...</td>\n",
       "      <td>...</td>\n",
       "      <td>...</td>\n",
       "      <td>...</td>\n",
       "      <td>...</td>\n",
       "      <td>...</td>\n",
       "    </tr>\n",
       "    <tr>\n",
       "      <th>9395</th>\n",
       "      <td>154</td>\n",
       "      <td>1388324186</td>\n",
       "      <td></td>\n",
       "      <td>-100</td>\n",
       "      <td>-100</td>\n",
       "      <td>-100</td>\n",
       "      <td>-100</td>\n",
       "      <td></td>\n",
       "      <td></td>\n",
       "      <td></td>\n",
       "      <td>2013-12-29 17:36:26</td>\n",
       "      <td>2013-12-29</td>\n",
       "      <td>17:36:26</td>\n",
       "    </tr>\n",
       "    <tr>\n",
       "      <th>9396</th>\n",
       "      <td>153</td>\n",
       "      <td>1388324026</td>\n",
       "      <td></td>\n",
       "      <td>-100</td>\n",
       "      <td>-100</td>\n",
       "      <td>-100</td>\n",
       "      <td>-100</td>\n",
       "      <td></td>\n",
       "      <td></td>\n",
       "      <td></td>\n",
       "      <td>2013-12-29 17:33:46</td>\n",
       "      <td>2013-12-29</td>\n",
       "      <td>17:33:46</td>\n",
       "    </tr>\n",
       "    <tr>\n",
       "      <th>9397</th>\n",
       "      <td>152</td>\n",
       "      <td>1388323985</td>\n",
       "      <td></td>\n",
       "      <td>-100</td>\n",
       "      <td>-100</td>\n",
       "      <td>-100</td>\n",
       "      <td>-100</td>\n",
       "      <td></td>\n",
       "      <td></td>\n",
       "      <td></td>\n",
       "      <td>2013-12-29 17:33:05</td>\n",
       "      <td>2013-12-29</td>\n",
       "      <td>17:33:05</td>\n",
       "    </tr>\n",
       "    <tr>\n",
       "      <th>9398</th>\n",
       "      <td>150</td>\n",
       "      <td>1388323757</td>\n",
       "      <td></td>\n",
       "      <td>-100</td>\n",
       "      <td>-100</td>\n",
       "      <td>-100</td>\n",
       "      <td>-100</td>\n",
       "      <td></td>\n",
       "      <td></td>\n",
       "      <td></td>\n",
       "      <td>2013-12-29 17:29:17</td>\n",
       "      <td>2013-12-29</td>\n",
       "      <td>17:29:17</td>\n",
       "    </tr>\n",
       "    <tr>\n",
       "      <th>9399</th>\n",
       "      <td>140</td>\n",
       "      <td>1388259686</td>\n",
       "      <td></td>\n",
       "      <td>-100</td>\n",
       "      <td>-100</td>\n",
       "      <td>-100</td>\n",
       "      <td>-100</td>\n",
       "      <td></td>\n",
       "      <td></td>\n",
       "      <td></td>\n",
       "      <td>2013-12-28 23:41:26</td>\n",
       "      <td>2013-12-28</td>\n",
       "      <td>23:41:26</td>\n",
       "    </tr>\n",
       "  </tbody>\n",
       "</table>\n",
       "<p>9400 rows × 13 columns</p>\n",
       "</div>"
      ],
      "text/plain": [
       "         id   timestamp                                               post  \\\n",
       "0     37509  1665934500  *студент презентует идею газеты*\\nПреподавател...   \n",
       "1     37503  1665923700  Без любви ничего не выйдет.\\n\\n#Гаджиев_ВШЭ #Г...   \n",
       "2     37501  1665912900  В одиночку можно только сойти с ума. Больше в ...   \n",
       "3     37497  1665848100  Ты приходишь в чебуречную, там граненый стакан...   \n",
       "4     37495  1665837300  П: Назовите мне какой-нибудь luxury brand в Ро...   \n",
       "...     ...         ...                                                ...   \n",
       "9395    154  1388324186                                                      \n",
       "9396    153  1388324026                                                      \n",
       "9397    152  1388323985                                                      \n",
       "9398    150  1388323757                                                      \n",
       "9399    140  1388259686                                                      \n",
       "\n",
       "      likes  reposts  views  comments  \\\n",
       "0       152       20   3834         0   \n",
       "1       320       43   6788         4   \n",
       "2       179       33   5058         2   \n",
       "3        91       14   5410         2   \n",
       "4       227       21   6512         0   \n",
       "...     ...      ...    ...       ...   \n",
       "9395   -100     -100   -100      -100   \n",
       "9396   -100     -100   -100      -100   \n",
       "9397   -100     -100   -100      -100   \n",
       "9398   -100     -100   -100      -100   \n",
       "9399   -100     -100   -100      -100   \n",
       "\n",
       "                                                   text        teacher  \\\n",
       "0     *студент презентует идею газеты*\\nПреподавател...  Выжутович_ВШЭ   \n",
       "1                           Без любви ничего не выйдет.    Гаджиев_ВШЭ   \n",
       "2     В одиночку можно только сойти с ума. Больше в ...  Буровский_ВШЭ   \n",
       "3     Ты приходишь в чебуречную, там граненый стакан...   Сафронов_ВШЭ   \n",
       "4     П: Назовите мне какой-нибудь luxury brand в Ро...     Влахов_ВШЭ   \n",
       "...                                                 ...            ...   \n",
       "9395                                                                     \n",
       "9396                                                                     \n",
       "9397                                                                     \n",
       "9398                                                                     \n",
       "9399                                                                     \n",
       "\n",
       "                            course             datetime        date      time  \n",
       "0                   Печатные_медиа  2022-10-16 18:35:00  2022-10-16  18:35:00  \n",
       "1                Гражданское_право  2022-10-16 15:35:00  2022-10-16  15:35:00  \n",
       "2                               ПМ  2022-10-16 12:35:00  2022-10-16  12:35:00  \n",
       "3     Актуальная_социальная_теория  2022-10-15 18:35:00  2022-10-15  18:35:00  \n",
       "4                 Социолингвистика  2022-10-15 15:35:00  2022-10-15  15:35:00  \n",
       "...                            ...                  ...         ...       ...  \n",
       "9395                                2013-12-29 17:36:26  2013-12-29  17:36:26  \n",
       "9396                                2013-12-29 17:33:46  2013-12-29  17:33:46  \n",
       "9397                                2013-12-29 17:33:05  2013-12-29  17:33:05  \n",
       "9398                                2013-12-29 17:29:17  2013-12-29  17:29:17  \n",
       "9399                                2013-12-28 23:41:26  2013-12-28  23:41:26  \n",
       "\n",
       "[9400 rows x 13 columns]"
      ]
     },
     "execution_count": 40,
     "metadata": {},
     "output_type": "execute_result"
    }
   ],
   "source": [
    "final2"
   ]
  },
  {
   "cell_type": "code",
   "execution_count": 41,
   "metadata": {},
   "outputs": [],
   "source": [
    "final2.to_excel(\"posts.xlsx\")"
   ]
  }
 ],
 "metadata": {
  "kernelspec": {
   "display_name": "Python 3 (ipykernel)",
   "language": "python",
   "name": "python3"
  },
  "language_info": {
   "codemirror_mode": {
    "name": "ipython",
    "version": 3
   },
   "file_extension": ".py",
   "mimetype": "text/x-python",
   "name": "python",
   "nbconvert_exporter": "python",
   "pygments_lexer": "ipython3",
   "version": "3.9.7"
  }
 },
 "nbformat": 4,
 "nbformat_minor": 2
}
